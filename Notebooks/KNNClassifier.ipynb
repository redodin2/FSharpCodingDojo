{
 "cells": [
  {
   "cell_type": "markdown",
   "metadata": {
    "collapsed": true
   },
   "source": [
    "# F# Coding Dojo\n",
    "## Solving digit recognition problem using KNN classifier\n",
    "\n",
    "Hello! Welcome to F# Coding Dojo!\n",
    "\n",
    "During this activity, you will solve a real-life problem of recognizing handwritted digits, while learning F# along the way. I hope you enjoy it! Before you begin, it is recommended that you have a look at [F# Primer Notebook]() and/or official [Introduction to F# Notebook](https://notebooks.azure.com/Microsoft/libraries/fsharp/html/FSharp%20for%20Azure%20Notebooks.ipynb)\n",
    "\n",
    "For our problem, we will use slightly smaller version of [MNIST dataset](http://yann.lecun.com/exdb/mnist/) (also described in [this Kaggle Competition](https://www.kaggle.com/c/digit-recognizer)). Digits are represented by 28x28 grayscale matrices, and look like that: \n",
    "\n",
    "![MNIST Image](http://simonwinder.com/wp-content/uploads/2015/07/mnistExamples.png)\n",
    "\n",
    "Two CSV files below contain training set of 5000 digits and test set of 500 digits."
   ]
  },
  {
   "cell_type": "code",
   "execution_count": 1,
   "metadata": {
    "collapsed": true
   },
   "outputs": [],
   "source": [
    "let train_sample_url = \"https://github.com/shwars/FSharpCodingDojo/blob/master/DigitRecognizer/trainingsample.csv?raw=true\"\n",
    "let test_sample_url = \"https://github.com/shwars/FSharpCodingDojo/blob/master/DigitRecognizer/validationsample.csv?raw=true\""
   ]
  },
  {
   "cell_type": "markdown",
   "metadata": {},
   "source": [
    "Let us define some functions to retrieve those files via HTTP:"
   ]
  },
  {
   "cell_type": "code",
   "execution_count": 5,
   "metadata": {},
   "outputs": [
    {
     "data": {
      "text/plain": [
       "seq\n",
       "  [\"label,pixel0,pixel1,pixel2,pixel3,pixel4,pixel5,pixel6,pixel7,pixel8,pixel9,pixel10,pixel11,pixel12,pixel13,pixel14,pixel15,pixel16,pixel17,pixel18,pixel19,pixel20,pixel21,pixel22,pixel23,pixel24,pixel25,pixel26,pixel27,pixel28,pixel29,pixel30,pixel31,pixel32,pixel33,pixel34,pixel35,pixel36,pixel37,pixel38,pixel39,pixel40,pixel41,pixel42,pixel43,pixel44,pixel45,pixel46,pixel47,pixel48,pixel49,pixel50,pixel51,pixel52,pixel53,pixel54,pixel55,pixel56,pixel57,pixel58,pixel59,pixel60,pixel61,pixel62,pixel63,pixel64,pixel65,pixel66,pixel67,pixel68,pixel69,pixel70,pixel71,pixel72,pixel73,pixel74,pixel75,pixel76,pixel77,pixel78,pixel79,pixel80,pixel81,pixel82,pixel83,pixel84,pixel85,pixel86,pixel87,pixel88,pixel89,pixel90,pixel91,pixel92,pixel93,pixel94,pixel95,pixel96,pixel97,pixel98,pixel99,pixel100,pixel101,pixel102,pixel103,pixel104,pixel105,pixel106,pixel107,pixel108,pixel109,pixel110,pixel111,pixel112,pixel113,pixel114,pixel115,pixel116,pixel117,pixel118,pixel119,pixel120,pixel121,pixel122,pixel123,pixel124,pixel125,pixel126,pixel127,pixel128,pixel129,pixel130,pixel131,pixel132,pixel133,pixel134,pixel135,pixel136,pixel137,pixel138,pixel139,pixel140,pixel141,pixel142,pixel143,pixel144,pixel145,pixel146,pixel147,pixel148,pixel149,pixel150,pixel151,pixel152,pixel153,pixel154,pixel155,pixel156,pixel157,pixel158,pixel159,pixel160,pixel161,pixel162,pixel163,pixel164,pixel165,pixel166,pixel167,pixel168,pixel169,pixel170,pixel171,pixel172,pixel173,pixel174,pixel175,pixel176,pixel177,pixel178,pixel179,pixel180,pixel181,pixel182,pixel183,pixel184,pixel185,pixel186,pixel187,pixel188,pixel189,pixel190,pixel191,pixel192,pixel193,pixel194,pixel195,pixel196,pixel197,pixel198,pixel199,pixel200,pixel201,pixel202,pixel203,pixel204,pixel205,pixel206,pixel207,pixel208,pixel209,pixel210,pixel211,pixel212,pixel213,pixel214,pixel215,pixel216,pixel217,pixel218,pixel219,pixel220,pixel221,pixel222,pixel223,pixel224,pixel225,pixel226,pixel227,pixel228,pixel229,pixel230,pixel231,pixel232,pixel233,pixel234,pixel235,pixel236,pixel237,pixel238,pixel239,pixel240,pixel241,pixel242,pixel243,pixel244,pixel245,pixel246,pixel247,pixel248,pixel249,pixel250,pixel251,pixel252,pixel253,pixel254,pixel255,pixel256,pixel257,pixel258,pixel259,pixel260,pixel261,pixel262,pixel263,pixel264,pixel265,pixel266,pixel267,pixel268,pixel269,pixel270,pixel271,pixel272,pixel273,pixel274,pixel275,pixel276,pixel277,pixel278,pixel279,pixel280,pixel281,pixel282,pixel283,pixel284,pixel285,pixel286,pixel287,pixel288,pixel289,pixel290,pixel291,pixel292,pixel293,pixel294,pixel295,pixel296,pixel297,pixel298,pixel299,pixel300,pixel301,pixel302,pixel303,pixel304,pixel305,pixel306,pixel307,pixel308,pixel309,pixel310,pixel311,pixel312,pixel313,pixel314,pixel315,pixel316,pixel317,pixel318,pixel319,pixel320,pixel321,pixel322,pixel323,pixel324,pixel325,pixel326,pixel327,pixel328,pixel329,pixel330,pixel331,pixel332,pixel333,pixel334,pixel335,pixel336,pixel337,pixel338,pixel339,pixel340,pixel341,pixel342,pixel343,pixel344,pixel345,pixel346,pixel347,pixel348,pixel349,pixel350,pixel351,pixel352,pixel353,pixel354,pixel355,pixel356,pixel357,pixel358,pixel359,pixel360,pixel361,pixel362,pixel363,pixel364,pixel365,pixel366,pixel367,pixel368,pixel369,pixel370,pixel371,pixel372,pixel373,pixel374,pixel375,pixel376,pixel377,pixel378,pixel379,pixel380,pixel381,pixel382,pixel383,pixel384,pixel385,pixel386,pixel387,pixel388,pixel389,pixel390,pixel391,pixel392,pixel393,pixel394,pixel395,pixel396,pixel397,pixel398,pixel399,pixel400,pixel401,pixel402,pixel403,pixel404,pixel405,pixel406,pixel407,pixel408,pixel409,pixel410,pixel411,pixel412,pixel413,pixel414,pixel415,pixel416,pixel417,pixel418,pixel419,pixel420,pixel421,pixel422,pixel423,pixel424,pixel425,pixel426,pixel427,pixel428,pixel429,pixel430,pixel431,pixel432,pixel433,pixel434,pixel435,pixel436,pixel437,pixel438,pixel439,pixel440,pixel441,pixel442,pixel443,pixel444,pixel445,pixel446,pixel447,pixel448,pixel449,pixel450,pixel451,pixel452,pixel453,pixel454,pixel455,pixel456,pixel457,pixel458,pixel459,pixel460,pixel461,pixel462,pixel463,pixel464,pixel465,pixel466,pixel467,pixel468,pixel469,pixel470,pixel471,pixel472,pixel473,pixel474,pixel475,pixel476,pixel477,pixel478,pixel479,pixel480,pixel481,pixel482,pixel483,pixel484,pixel485,pixel486,pixel487,pixel488,pixel489,pixel490,pixel491,pixel492,pixel493,pixel494,pixel495,pixel496,pixel497,pixel498,pixel499,pixel500,pixel501,pixel502,pixel503,pixel504,pixel505,pixel506,pixel507,pixel508,pixel509,pixel510,pixel511,pixel512,pixel513,pixel514,pixel515,pixel516,pixel517,pixel518,pixel519,pixel520,pixel521,pixel522,pixel523,pixel524,pixel525,pixel526,pixel527,pixel528,pixel529,pixel530,pixel531,pixel532,pixel533,pixel534,pixel535,pixel536,pixel537,pixel538,pixel539,pixel540,pixel541,pixel542,pixel543,pixel544,pixel545,pixel546,pixel547,pixel548,pixel549,pixel550,pixel551,pixel552,pixel553,pixel554,pixel555,pixel556,pixel557,pixel558,pixel559,pixel560,pixel561,pixel562,pixel563,pixel564,pixel565,pixel566,pixel567,pixel568,pixel569,pixel570,pixel571,pixel572,pixel573,pixel574,pixel575,pixel576,pixel577,pixel578,pixel579,pixel580,pixel581,pixel582,pixel583,pixel584,pixel585,pixel586,pixel587,pixel588,pixel589,pixel590,pixel591,pixel592,pixel593,pixel594,pixel595,pixel596,pixel597,pixel598,pixel599,pixel600,pixel601,pixel602,pixel603,pixel604,pixel605,pixel606,pixel607,pixel608,pixel609,pixel610,pixel611,pixel612,pixel613,pixel614,pixel615,pixel616,pixel617,pixel618,pixel619,pixel620,pixel621,pixel622,pixel623,pixel624,pixel625,pixel626,pixel627,pixel628,pixel629,pixel630,pixel631,pixel632,pixel633,pixel634,pixel635,pixel636,pixel637,pixel638,pixel639,pixel640,pixel641,pixel642,pixel643,pixel644,pixel645,pixel646,pixel647,pixel648,pixel649,pixel650,pixel651,pixel652,pixel653,pixel654,pixel655,pixel656,pixel657,pixel658,pixel659,pixel660,pixel661,pixel662,pixel663,pixel664,pixel665,pixel666,pixel667,pixel668,pixel669,pixel670,pixel671,pixel672,pixel673,pixel674,pixel675,pixel676,pixel677,pixel678,pixel679,pixel680,pixel681,pixel682,pixel683,pixel684,pixel685,pixel686,pixel687,pixel688,pixel689,pixel690,pixel691,pixel692,pixel693,pixel694,pixel695,pixel696,pixel697,pixel698,pixel699,pixel700,pixel701,pixel702,pixel703,pixel704,pixel705,pixel706,pixel707,pixel708,pixel709,pixel710,pixel711,pixel712,pixel713,pixel714,pixel715,pixel716,pixel717,pixel718,pixel719,pixel720,pixel721,pixel722,pixel723,pixel724,pixel725,pixel726,pixel727,pixel728,pixel729,pixel730,pixel731,pixel732,pixel733,pixel734,pixel735,pixel736,pixel737,pixel738,pixel739,pixel740,pixel741,pixel742,pixel743,pixel744,pixel745,pixel746,pixel747,pixel748,pixel749,pixel750,pixel751,pixel752,pixel753,pixel754,pixel755,pixel756,pixel757,pixel758,pixel759,pixel760,pixel761,pixel762,pixel763,pixel764,pixel765,pixel766,pixel767,pixel768,pixel769,pixel770,pixel771,pixel772,pixel773,pixel774,pixel775,pixel776,pixel777,pixel778,pixel779,pixel780,pixel781,pixel782,pixel783\";\n",
       "   \"8,0,0,0,0,0,0,0,0,0,0,0,0,0,0,0,0,0,0,0,0,0,0,0,0,0,0,0,0,0,0,0,0,0,0,0,0,0,0,0,0,0,0,0,0,0,0,0,0,0,0,0,0,0,0,0,0,0,0,0,0,0,0,0,0,0,0,0,0,0,0,0,0,0,0,0,0,0,0,0,0,0,0,0,0,0,0,0,0,0,0,0,0,0,0,0,0,0,0,0,0,0,0,0,0,0,0,0,0,0,0,0,0,0,0,0,0,0,0,0,0,0,0,0,0,0,0,0,0,0,0,0,0,0,0,0,0,0,0,0,0,0,0,0,0,0,0,0,0,0,0,0,0,0,0,0,0,56,180,255,254,224,116,0,0,0,0,0,0,0,0,0,0,0,0,0,0,0,0,0,0,0,0,0,105,233,250,180,120,157,211,5,0,0,0,0,0,0,0,0,0,0,0,0,0,0,0,0,0,0,0,80,250,228,44,0,98,110,194,0,0,0,0,0,0,0,0,0,0,0,0,0,0,0,0,0,0,0,48,247,249,54,34,177,229,254,240,60,0,0,0,0,0,0,0,0,0,0,0,0,0,0,0,0,0,5,159,254,115,102,239,240,91,39,83,46,0,0,0,0,0,0,0,0,0,0,0,0,0,0,0,0,0,0,151,254,189,254,231,58,0,0,0,0,0,0,0,0,0,0,0,0,0,0,0,0,0,0,0,0,0,9,229,254,254,222,47,0,0,0,0,0,0,0,0,0,0,0,0,0,0,0,0,0,0,0,0,0,0,1,198,254,217,55,0,0,0,0,0,0,0,0,0,0,0,0,0,0,0,0,0,0,0,0,0,0,11,102,254,254,115,0,0,0,0,0,0,0,0,0,0,0,0,0,0,0,0,0,0,0,0,0,0,0,87,250,254,254,120,0,0,0,0,0,0,0,0,0,0,0,0,0,0,0,0,0,0,0,0,0,0,93,254,178,49,234,215,28,0,0,0,0,0,0,0,0,0,0,0,0,0,0,0,0,0,0,0,0,18,219,186,20,0,89,254,120,0,0,0,0,0,0,0,0,0,0,0,0,0,0,0,0,0,0,0,0,145,231,16,0,0,75,254,120,0,0,0,0,0,0,0,0,0,0,0,0,0,0,0,0,0,0,0,35,221,80,0,0,0,75,255,120,0,0,0,0,0,0,0,0,0,0,0,0,0,0,0,0,0,0,9,221,187,0,0,0,0,98,254,76,0,0,0,0,0,0,0,0,0,0,0,0,0,0,0,0,0,0,69,254,105,0,0,0,0,137,252,40,0,0,0,0,0,0,0,0,0,0,0,0,0,0,0,0,0,0,90,254,87,0,0,4,130,249,145,0,0,0,0,0,0,0,0,0,0,0,0,0,0,0,0,0,0,0,113,240,21,0,53,188,251,150,5,0,0,0,0,0,0,0,0,0,0,0,0,0,0,0,0,0,0,0,126,240,127,195,243,238,106,0,0,0,0,0,0,0,0,0,0,0,0,0,0,0,0,0,0,0,0,0,73,236,254,246,161,68,0,0,0,0,0,0,0,0,0,0,0,0,0,0,0,0,0,0,0,0,0,0,0,0,0,0,0,0,0,0,0,0,0,0,0,0,0,0,0,0,0,0,0,0,0,0,0,0,0,0,0,0,0,0,0,0,0,0,0,0,0,0,0,0,0,0,0,0,0,0,0,0,0,0,0,0,0,0,0,0,0,0,0,0,0,0,0,0,0,0,0,0,0,0,0,0,0,0,0\";\n",
       "   \"7,0,0,0,0,0,0,0,0,0,0,0,0,0,0,0,0,0,0,0,0,0,0,0,0,0,0,0,0,0,0,0,0,0,0,0,0,0,0,0,0,0,0,0,0,0,0,0,0,0,0,0,0,0,0,0,0,0,0,0,0,0,0,0,0,0,0,0,0,0,0,0,0,0,0,0,0,0,0,0,0,0,0,0,0,0,0,0,0,0,0,0,0,0,0,0,0,0,0,0,0,0,0,0,0,0,0,0,0,0,0,0,0,0,0,0,0,0,0,0,0,0,0,0,0,0,0,0,0,0,0,0,0,0,0,0,0,0,0,0,0,0,0,0,0,0,0,0,0,0,0,0,0,0,0,0,0,0,0,0,0,0,0,0,0,0,0,0,0,0,0,0,0,0,0,0,0,0,0,0,0,0,0,0,0,0,0,0,0,0,0,0,0,0,0,0,0,0,0,0,0,0,0,0,0,0,0,0,0,0,0,0,0,0,0,0,0,0,0,0,0,0,0,0,0,0,0,0,0,0,0,0,0,0,0,0,0,0,0,0,0,0,0,0,0,0,0,0,0,0,0,0,0,0,0,0,0,0,0,0,0,0,11,62,101,148,151,236,237,236,163,7,0,0,0,0,0,0,0,0,0,0,0,0,0,0,17,108,80,219,232,253,253,253,253,253,235,253,253,74,0,0,0,0,0,0,0,0,0,0,0,0,0,0,184,253,253,253,215,197,122,122,59,35,23,216,253,98,0,0,0,0,0,0,0,0,0,0,0,0,0,0,56,154,136,52,6,0,0,0,0,0,39,249,244,22,0,0,0,0,14,36,0,0,0,0,0,0,0,0,0,0,0,0,0,0,0,0,0,0,119,253,191,10,23,69,124,201,221,213,0,0,0,0,0,0,0,0,0,0,0,0,0,0,0,0,13,12,172,253,238,213,245,253,253,233,115,40,0,0,0,0,0,0,0,0,0,0,0,0,0,0,0,0,184,229,254,253,248,244,199,144,70,17,0,0,0,0,0,0,0,0,0,0,0,0,0,0,0,0,0,0,124,253,254,144,33,0,0,0,0,0,0,0,0,0,0,0,0,0,0,0,0,0,0,0,0,0,0,0,3,200,255,39,0,0,0,0,0,0,0,0,0,0,0,0,0,0,0,0,0,0,0,0,0,0,0,0,64,253,232,6,0,0,0,0,0,0,0,0,0,0,0,0,0,0,0,0,0,0,0,0,0,0,0,0,178,253,94,0,0,0,0,0,0,0,0,0,0,0,0,0,0,0,0,0,0,0,0,0,0,0,0,34,246,235,9,0,0,0,0,0,0,0,0,0,0,0,0,0,0,0,0,0,0,0,0,0,0,0,0,180,253,90,0,0,0,0,0,0,0,0,0,0,0,0,0,0,0,0,0,0,0,0,0,0,0,0,13,222,233,14,0,0,0,0,0,0,0,0,0,0,0,0,0,0,0,0,0,0,0,0,0,0,0,0,97,253,118,0,0,0,0,0,0,0,0,0,0,0,0,0,0,0,0,0,0,0,0,0,0,0,0,0,46,229,41,0,0,0,0,0,0,0,0,0,0,0,0,0,0,0,0,0,0,0,0,0,0,0,0,0,0,0,0,0,0,0,0,0,0,0,0,0,0,0,0,0,0,0,0,0,0,0,0,0,0,0,0,0,0,0,0,0,0,0,0,0,0,0,0,0,0,0,0,0,0,0,0,0,0,0,0,0,0,0,0,0,0,0,0,0,0,0,0,0,0,0,0,0,0,0,0,0,0\";\n",
       "   \"2,0,0,0,0,0,0,0,0,0,0,0,0,0,0,0,0,0,0,0,0,0,0,0,0,0,0,0,0,0,0,0,0,0,0,0,0,0,0,0,0,0,0,0,0,0,0,0,0,0,0,0,0,0,0,0,0,0,0,0,0,0,0,0,0,0,0,0,0,0,0,0,0,0,0,0,0,0,0,0,0,0,0,0,0,0,0,0,0,0,0,0,0,0,0,0,0,0,0,0,0,0,0,0,0,0,0,0,0,0,0,0,0,0,0,0,0,0,0,0,0,0,0,0,13,121,191,185,198,121,83,0,0,0,0,0,0,0,0,0,0,0,0,0,0,0,0,40,17,0,0,96,242,253,253,255,253,253,249,241,142,34,0,0,0,0,0,0,0,0,0,0,0,0,97,237,232,48,49,245,253,253,253,255,213,244,253,253,253,128,0,0,0,0,0,0,0,0,0,0,0,0,17,189,253,117,188,253,253,242,39,40,23,36,108,253,253,213,0,0,0,0,0,0,0,0,0,0,0,0,0,70,243,253,253,253,246,106,0,0,0,0,17,212,253,213,0,0,0,0,0,0,0,0,0,0,0,0,0,0,56,172,199,228,108,0,0,0,0,0,0,201,253,213,0,0,0,0,0,0,0,0,0,0,0,0,0,0,0,0,0,42,0,0,0,0,0,0,56,237,253,213,0,0,0,0,0,0,0,0,0,0,0,0,0,0,0,0,0,0,0,0,0,0,0,0,81,253,253,213,0,0,0,0,0,0,0,0,0,0,0,0,0,0,0,0,0,0,0,0,0,0,0,0,158,253,253,213,0,0,0,0,0,0,0,0,0,0,0,0,0,0,0,0,0,0,0,0,0,0,0,50,235,253,253,213,0,0,0,0,0,0,0,0,0,0,0,0,0,0,0,0,0,0,0,64,0,0,0,158,254,254,254,214,0,0,0,0,0,0,0,0,0,0,0,0,0,0,0,29,135,241,241,247,241,242,241,252,253,253,253,86,0,0,0,0,0,0,0,0,0,0,0,0,0,0,0,187,253,253,253,253,253,254,253,253,253,253,205,8,0,0,0,0,0,0,0,0,0,0,0,0,0,0,111,245,253,240,173,173,215,254,253,253,253,253,217,68,0,0,0,0,0,0,0,0,0,0,0,0,0,0,214,253,211,45,0,4,165,254,253,253,253,253,253,224,25,0,0,0,0,0,0,0,0,0,0,0,0,70,243,253,199,0,6,65,253,254,253,233,199,214,253,253,192,0,0,0,0,0,0,0,0,0,0,0,0,80,247,253,208,41,133,253,253,235,156,50,0,21,178,213,190,0,0,0,0,0,0,0,0,0,0,0,0,0,214,253,253,253,253,252,226,49,0,0,0,0,0,0,0,0,0,0,0,0,0,0,0,0,0,0,0,0,132,250,253,253,245,227,0,0,0,0,0,0,0,0,0,0,0,0,0,0,0,0,0,0,0,0,0,0,0,130,253,253,93,0,0,0,0,0,0,0,0,0,0,0,0,0,0,0,0,0,0,0,0,0,0,0,0,0,0,0,0,0,0,0,0,0,0,0,0,0,0,0,0,0,0,0,0,0,0,0,0,0,0,0,0,0,0,0,0,0,0,0,0,0,0,0,0,0,0,0,0,0,0,0,0,0,0,0,0,0,0,0,0,0,0,0,0,0,0,0,0,0,0,0,0,0,0,0,0,0,0,0,0,0,0,0,0,0,0,0,0,0,0,0,0,0,0,0,0,0,0,0,0,0,0,0,0,0,0,0,0\";\n",
       "   ...]"
      ]
     },
     "execution_count": 5,
     "metadata": {},
     "output_type": "execute_result"
    }
   ],
   "source": [
    "open System\n",
    "open System.IO\n",
    "open System.Net\n",
    "\n",
    "let http (url:string) = seq {\n",
    "   let rq = WebRequest.Create(url)\n",
    "   use res = rq.GetResponse()\n",
    "   use rd = new StreamReader(res.GetResponseStream())\n",
    "   while not rd.EndOfStream do\n",
    "       yield rd.ReadLine()\n",
    "}\n",
    "\n",
    "http test_sample_url"
   ]
  },
  {
   "cell_type": "markdown",
   "metadata": {},
   "source": [
    "To simplify processing, we will read all files into memory and store them as arrays"
   ]
  },
  {
   "cell_type": "code",
   "execution_count": 6,
   "metadata": {},
   "outputs": [],
   "source": [
    "let train_sample = http train_sample_url |> Seq.toArray\n",
    "let test_sample = http test_sample_url |> Seq.toArray"
   ]
  },
  {
   "cell_type": "markdown",
   "metadata": {
    "collapsed": true
   },
   "source": [
    "Next, we need to convert the data into usable form, namely do the following:\n",
    " - Skip the first row with labels (use `Seq.skip`)\n",
    " - Split each line into 769 separate strings (use `Seq.map` and `string.Split` method)\n",
    " - Convert those separate strings into integers (use `int` to do the typecast)\n",
    " - Use array slicing `..` to convert each row of data into pair, containing the label (actual digit) and array of 768 pixels\n",
    " \n",
    "Please, define the function `convert` to convert the data, and `train_data` and `test_data` variables that contain cleaned-up sequences of pairs  "
   ]
  },
  {
   "cell_type": "code",
   "execution_count": 34,
   "metadata": {
    "scrolled": true
   },
   "outputs": [
    {
     "data": {
      "text/plain": [
       "seq [2; 3; 4; 5; ...]\n",
       "[|2; 3; 4; 5; 6; 7; 8; 9; 10|]\n",
       "seq [1; 2; 3]\n"
      ]
     },
     "metadata": {},
     "output_type": "display_data"
    }
   ],
   "source": [
    "let convert input = seq [(0,[|0;0;0;0;0;0;0;0|]);(1,[|0;0;1;0;0;0;1;0|]);(1,[|0;0;1;0;0;0;1;0|])]  \n",
    "// You need to define this function!\n",
    "// It will return the sequnce of pairs (d,[|...|]), where d is the digit (0 to 9), \n",
    "// and [|...|] is the array of pixels (each pixel being in range 0..255)\n",
    "\n",
    "let train_data = convert train_sample\n",
    "let test_data = convert test_sample\n",
    "\n",
    "// You will find the following constrictions useful (printfn \"%A\" just prints the result):\n",
    "{1..10} |> Seq.skip 1 |> printfn \"%A\" // skip first element of a sequence\n",
    "[|1..10|].[1..] |> printfn \"%A\" // take all elements of array except first one\n",
    "[\"1\";\"2\";\"3\"] |> Seq.map (int) |> printfn \"%A\" // convert all strings in a sequence to ints"
   ]
  },
  {
   "cell_type": "markdown",
   "metadata": {},
   "source": [
    "The method we will use to predict the correct number is called **K Nearest Neighbour Classifier** (KNN). \n",
    "\n",
    "The simplest version is when $K=1$. Suppose we have training data ${\\rm train\\_data}=\\{(d_i, I_i)\\}_{i=1}^N$, where $d_i\\in [0..9]$ is the digit, correspondig to image $I_i$. Given the input image $X$ we look for the image $I_i$, which is closest to $X$ according to some metric $||\\cdot||$, i.e.\n",
    "$$\n",
    "(d_i,I_i) = {\\rm argmin}_j ||X-I_j||\n",
    "$$\n",
    "In this case, we return $d_i$ as the result.\n",
    "\n",
    "Metric $||\\cdot||$ can be defined in a few different ways, the simplest being euclidian distance\n",
    "$$\n",
    "||A-B|| = \\sum_{j=1}^{768} (A_j-B_j)^2\n",
    "$$\n",
    "\n",
    "When $K>1$, we look for $K$ images in the training set that are closest to $X$, and select the digit which most frequently occurs among digits that correspond to those images.\n",
    "\n",
    "In our case, we need to define the function `distance` that computes the distance between two images (represented by int arrays)."
   ]
  },
  {
   "cell_type": "code",
   "execution_count": 35,
   "metadata": {},
   "outputs": [
    {
     "data": {
      "text/plain": [
       "seq [(1, 3); (2, 4)]\n",
       "5050\n"
      ]
     },
     "metadata": {},
     "output_type": "display_data"
    }
   ],
   "source": [
    "let distance A B = 0 // You need to define this function!!\n",
    "\n",
    "// You will find the following functions useful\n",
    "Seq.map2 (fun a b -> (a,b)) [1;2] [3;4] |> printfn \"%A\" // map2 is map that can be applied to two sequnces at once\n",
    "[1..100] |> Seq.sum |> printfn \"%A\" // adds all numbers in a sequence"
   ]
  },
  {
   "cell_type": "markdown",
   "metadata": {},
   "source": [
    "Having defined `distance` function, let's finally define the classifier `classify`, which will return the digit, given the image (array of pixels)"
   ]
  },
  {
   "cell_type": "code",
   "execution_count": 36,
   "metadata": {},
   "outputs": [
    {
     "data": {
      "text/plain": [
       "-7\n",
       "-7\n",
       "1\n",
       "2\n"
      ]
     },
     "metadata": {},
     "output_type": "display_data"
    }
   ],
   "source": [
    "let classify A = 0 // You need to define this function!\n",
    "\n",
    "// You will find the following functions useful:\n",
    "[1;-7;5;3;0;3] |> Seq.min |> printfn \"%A\" // min value\n",
    "[1;-7;5;3;0;3] |> Seq.maxBy abs |> printfn \"%A\" // maximize according to a certain function\n",
    "(1,2) |> fst |> printfn \"%A\" // return first element of a pair\n",
    "(1,2) |> snd |> printfn \"%A\" // return second element of a pair"
   ]
  },
  {
   "cell_type": "markdown",
   "metadata": {},
   "source": [
    "Now you are ready to test the classifier! Let's see how first 3 test samples are classified!"
   ]
  },
  {
   "cell_type": "code",
   "execution_count": 37,
   "metadata": {},
   "outputs": [
    {
     "data": {
      "text/plain": [
       "Digit 0 classified as 0\n",
       "Digit 1 classified as 0\n",
       "Digit 1 classified as 0\n"
      ]
     },
     "metadata": {},
     "output_type": "display_data"
    }
   ],
   "source": [
    "test_data\n",
    "|> Seq.take 3\n",
    "|> Seq.iter (fun (d,A) -> printfn \"Digit %d classified as %d\" d (classify A))"
   ]
  },
  {
   "cell_type": "markdown",
   "metadata": {},
   "source": [
    "To see how well our classifier does, let's go through all test data and count digits that are classified correctly. To do this, use the `Seq.fold` function to go through all elements of a sequence"
   ]
  },
  {
   "cell_type": "code",
   "execution_count": 41,
   "metadata": {},
   "outputs": [
    {
     "data": {
      "text/plain": [
       "Accuracy: 0.200000%\n"
      ]
     },
     "metadata": {},
     "output_type": "display_data"
    }
   ],
   "source": [
    "// This function may take some time to compute!\n",
    "let correct = \n",
    "   test_data\n",
    "   |> Seq.map (fun (a,A) -> if a = classify A then 1 else 0)\n",
    "   |> Seq.sum\n",
    "printfn \"Accuracy: %f%%\" (float(correct)/500.*100.)"
   ]
  },
  {
   "cell_type": "markdown",
   "metadata": {},
   "source": [
    "When you have completed this, try the following:\n",
    " - implement the classifier with $K=3$ and $K=5$. To do this, you may need to use `Seq.sort` and `Seq.sortBy` functions. Note whether classifier becomes more accurate, and if it takes more time to compute\n",
    " - use the full MNIST dataset available [here](https://github.com/shwars/FSharpCodingDojo/blob/master/DigitRecognizer/train.csv?raw=true) (73Mb)\n",
    " - more materials, including UWP application for drawing digits and testing it interactively are available at http://github.com/shwars/FSharpCodingDojo"
   ]
  },
  {
   "cell_type": "code",
   "execution_count": null,
   "metadata": {
    "collapsed": true
   },
   "outputs": [],
   "source": [
    "let classifyK K A = 0"
   ]
  }
 ],
 "metadata": {
  "kernelspec": {
   "display_name": "F#",
   "language": "fsharp",
   "name": "ifsharp"
  },
  "language": "fsharp",
  "language_info": {
   "codemirror_mode": "",
   "file_extension": ".fs",
   "mimetype": "text/x-fsharp",
   "name": "fsharp",
   "nbconvert_exporter": "",
   "pygments_lexer": "",
   "version": "4.3.1.0"
  }
 },
 "nbformat": 4,
 "nbformat_minor": 2
}
